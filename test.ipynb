{
 "cells": [
  {
   "cell_type": "code",
   "execution_count": 1,
   "metadata": {},
   "outputs": [
    {
     "name": "stdout",
     "output_type": "stream",
     "text": [
      "Collecting roboflow\n",
      "  Downloading roboflow-1.1.37-py3-none-any.whl (76 kB)\n",
      "     ---------------------------------------- 76.9/76.9 KB 4.2 MB/s eta 0:00:00\n",
      "Collecting opencv-python-headless==4.10.0.84\n",
      "  Downloading opencv_python_headless-4.10.0.84-cp37-abi3-win_amd64.whl (38.8 MB)\n",
      "     --------------------------------------- 38.8/38.8 MB 23.4 MB/s eta 0:00:00\n",
      "Requirement already satisfied: six in c:\\users\\alexa\\appdata\\local\\packages\\pythonsoftwarefoundation.python.3.9_qbz5n2kfra8p0\\localcache\\local-packages\\python39\\site-packages (from roboflow) (1.16.0)\n",
      "Collecting python-dotenv\n",
      "  Downloading python_dotenv-1.0.1-py3-none-any.whl (19 kB)\n",
      "Collecting idna==3.7\n",
      "  Downloading idna-3.7-py3-none-any.whl (66 kB)\n",
      "     ---------------------------------------- 66.8/66.8 KB ? eta 0:00:00\n",
      "Collecting matplotlib\n",
      "  Downloading matplotlib-3.9.1.post1-cp39-cp39-win_amd64.whl (8.0 MB)\n",
      "     ---------------------------------------- 8.0/8.0 MB 26.8 MB/s eta 0:00:00\n",
      "Collecting requests\n",
      "  Downloading requests-2.32.3-py3-none-any.whl (64 kB)\n",
      "     ---------------------------------------- 64.9/64.9 KB ? eta 0:00:00\n",
      "Collecting urllib3>=1.26.6\n",
      "  Downloading urllib3-2.2.2-py3-none-any.whl (121 kB)\n",
      "     ---------------------------------------- 121.4/121.4 KB ? eta 0:00:00\n",
      "Collecting kiwisolver>=1.3.1\n",
      "  Downloading kiwisolver-1.4.5-cp39-cp39-win_amd64.whl (56 kB)\n",
      "     ---------------------------------------- 56.2/56.2 KB 2.9 MB/s eta 0:00:00\n",
      "Collecting tqdm>=4.41.0\n",
      "  Downloading tqdm-4.66.5-py3-none-any.whl (78 kB)\n",
      "     ---------------------------------------- 78.4/78.4 KB 4.3 MB/s eta 0:00:00\n",
      "Collecting certifi\n",
      "  Downloading certifi-2024.7.4-py3-none-any.whl (162 kB)\n",
      "     ------------------------------------- 163.0/163.0 KB 10.2 MB/s eta 0:00:00\n",
      "Collecting Pillow>=7.1.2\n",
      "  Downloading pillow-10.4.0-cp39-cp39-win_amd64.whl (2.6 MB)\n",
      "     ---------------------------------------- 2.6/2.6 MB 32.6 MB/s eta 0:00:00\n",
      "Collecting PyYAML>=5.3.1\n",
      "  Downloading PyYAML-6.0.2-cp39-cp39-win_amd64.whl (162 kB)\n",
      "     ------------------------------------- 162.3/162.3 KB 10.1 MB/s eta 0:00:00\n",
      "Collecting requests-toolbelt\n",
      "  Downloading requests_toolbelt-1.0.0-py2.py3-none-any.whl (54 kB)\n",
      "     ---------------------------------------- 54.5/54.5 KB 2.9 MB/s eta 0:00:00\n",
      "Collecting cycler\n",
      "  Downloading cycler-0.12.1-py3-none-any.whl (8.3 kB)\n",
      "Collecting chardet==4.0.0\n",
      "  Downloading chardet-4.0.0-py2.py3-none-any.whl (178 kB)\n",
      "     ------------------------------------- 178.7/178.7 KB 11.2 MB/s eta 0:00:00\n",
      "Requirement already satisfied: python-dateutil in c:\\users\\alexa\\appdata\\local\\packages\\pythonsoftwarefoundation.python.3.9_qbz5n2kfra8p0\\localcache\\local-packages\\python39\\site-packages (from roboflow) (2.9.0.post0)\n",
      "Collecting filetype\n",
      "  Downloading filetype-1.2.0-py2.py3-none-any.whl (19 kB)\n",
      "Collecting numpy>=1.18.5\n",
      "  Downloading numpy-2.0.1-cp39-cp39-win_amd64.whl (16.6 MB)\n",
      "     --------------------------------------- 16.6/16.6 MB 28.5 MB/s eta 0:00:00\n",
      "Requirement already satisfied: colorama in c:\\users\\alexa\\appdata\\local\\packages\\pythonsoftwarefoundation.python.3.9_qbz5n2kfra8p0\\localcache\\local-packages\\python39\\site-packages (from tqdm>=4.41.0->roboflow) (0.4.4)\n",
      "Collecting contourpy>=1.0.1\n",
      "  Downloading contourpy-1.2.1-cp39-cp39-win_amd64.whl (182 kB)\n",
      "     ------------------------------------- 182.8/182.8 KB 10.8 MB/s eta 0:00:00\n",
      "Requirement already satisfied: pyparsing>=2.3.1 in c:\\users\\alexa\\appdata\\local\\packages\\pythonsoftwarefoundation.python.3.9_qbz5n2kfra8p0\\localcache\\local-packages\\python39\\site-packages (from matplotlib->roboflow) (2.4.7)\n",
      "Collecting importlib-resources>=3.2.0\n",
      "  Downloading importlib_resources-6.4.0-py3-none-any.whl (38 kB)\n",
      "Requirement already satisfied: packaging>=20.0 in c:\\users\\alexa\\appdata\\local\\packages\\pythonsoftwarefoundation.python.3.9_qbz5n2kfra8p0\\localcache\\local-packages\\python39\\site-packages (from matplotlib->roboflow) (21.0)\n",
      "Collecting fonttools>=4.22.0\n",
      "  Downloading fonttools-4.53.1-cp39-cp39-win_amd64.whl (2.2 MB)\n",
      "     ---------------------------------------- 2.2/2.2 MB 28.1 MB/s eta 0:00:00\n",
      "Collecting charset-normalizer<4,>=2\n",
      "  Downloading charset_normalizer-3.3.2-cp39-cp39-win_amd64.whl (100 kB)\n",
      "     -------------------------------------- 100.4/100.4 KB 5.6 MB/s eta 0:00:00\n",
      "Requirement already satisfied: zipp>=3.1.0 in c:\\users\\alexa\\appdata\\local\\packages\\pythonsoftwarefoundation.python.3.9_qbz5n2kfra8p0\\localcache\\local-packages\\python39\\site-packages (from importlib-resources>=3.2.0->matplotlib->roboflow) (3.20.0)\n",
      "Installing collected packages: filetype, urllib3, tqdm, PyYAML, python-dotenv, Pillow, numpy, kiwisolver, importlib-resources, idna, fonttools, cycler, charset-normalizer, chardet, certifi, requests, opencv-python-headless, contourpy, requests-toolbelt, matplotlib, roboflow\n",
      "Successfully installed Pillow-10.4.0 PyYAML-6.0.2 certifi-2024.7.4 chardet-4.0.0 charset-normalizer-3.3.2 contourpy-1.2.1 cycler-0.12.1 filetype-1.2.0 fonttools-4.53.1 idna-3.7 importlib-resources-6.4.0 kiwisolver-1.4.5 matplotlib-3.9.1.post1 numpy-2.0.1 opencv-python-headless-4.10.0.84 python-dotenv-1.0.1 requests-2.32.3 requests-toolbelt-1.0.0 roboflow-1.1.37 tqdm-4.66.5 urllib3-2.2.2\n"
     ]
    },
    {
     "name": "stderr",
     "output_type": "stream",
     "text": [
      "WARNING: You are using pip version 22.0.4; however, version 24.2 is available.\n",
      "You should consider upgrading via the 'C:\\Users\\alexa\\AppData\\Local\\Microsoft\\WindowsApps\\PythonSoftwareFoundation.Python.3.9_qbz5n2kfra8p0\\python.exe -m pip install --upgrade pip' command.\n"
     ]
    }
   ],
   "source": [
    "!pip install roboflow"
   ]
  },
  {
   "cell_type": "code",
   "execution_count": 2,
   "metadata": {},
   "outputs": [],
   "source": [
    "from roboflow import Roboflow\n",
    "rf = Roboflow(api_key=\"WmmkDZCcLdziEBieKmVB\")\n",
    "\n",
    "project = rf.workspace(\"viren-dhanwani\").project(\"tennis-ball-detection\")\n",
    "version = project.version(6)\n",
    "dataset = version.download(\"yolov5\")"
   ]
  },
  {
   "cell_type": "code",
   "execution_count": null,
   "metadata": {},
   "outputs": [],
   "source": [
    "import shutil"
   ]
  },
  {
   "cell_type": "code",
   "execution_count": null,
   "metadata": {},
   "outputs": [],
   "source": [
    "\n",
    "shutil.move(\"tennis-ball-detection-6/train\",\n",
    "            \"tennis-ball-detection-6/tennis-ball-detection-6/train\"\n",
    ")\n",
    "shutil.move(\"tennis-ball-detection-6/test\",\n",
    "            \"tennis-ball-detection-6/tennis-ball-detection-6/test\"\n",
    ")\n",
    "shutil.move(\"tennis-ball-detection-6/valid\",\n",
    "            \"tennis-ball-detection-6/tennis-ball-detection-6/valid\"\n",
    ")"
   ]
  }
 ],
 "metadata": {
  "kernelspec": {
   "display_name": "Python 3",
   "language": "python",
   "name": "python3"
  },
  "language_info": {
   "codemirror_mode": {
    "name": "ipython",
    "version": 3
   },
   "file_extension": ".py",
   "mimetype": "text/x-python",
   "name": "python",
   "nbconvert_exporter": "python",
   "pygments_lexer": "ipython3",
   "version": "3.9.13"
  }
 },
 "nbformat": 4,
 "nbformat_minor": 2
}
